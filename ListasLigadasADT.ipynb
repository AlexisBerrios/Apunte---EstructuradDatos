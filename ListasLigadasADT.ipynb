{
  "nbformat": 4,
  "nbformat_minor": 0,
  "metadata": {
    "colab": {
      "name": "ListasLigadasADT.ipynb",
      "provenance": []
    },
    "kernelspec": {
      "name": "python3",
      "display_name": "Python 3"
    },
    "language_info": {
      "name": "python"
    }
  },
  "cells": [
    {
      "cell_type": "code",
      "metadata": {
        "id": "7HknDbH40YVE",
        "colab": {
          "base_uri": "https://localhost:8080/",
          "height": 71
        },
        "outputId": "c52a1938-2a88-412f-b8e1-74773eadbc54"
      },
      "source": [
        "#Ejercicios con la clase nodo \n",
        "\"\"\"\n",
        "crear un nodo\n",
        "  imprimir el valor del nodo\n",
        "crear dos nodos\n",
        "  imprimir el valor de los dos nodos\n",
        "  transversal\n",
        "lo mismo pero con 4 nodos 10,20,30,40\n",
        "  imprimir el valor de los dos nodos\n",
        "  transversal\n",
        "  insertar el nodo 25, despues del nodo 20\n",
        "  y antes del nodo 30\n",
        "TODO ESTO ANTES DE IR A LA ESCRITURA FORMAL DE ADT, Lista ligada\n",
        "\"\"\""
      ],
      "execution_count": 24,
      "outputs": [
        {
          "output_type": "execute_result",
          "data": {
            "application/vnd.google.colaboratory.intrinsic+json": {
              "type": "string"
            },
            "text/plain": [
              "'\\ncrear un nodo\\n  imprimir el valor del nodo\\ncrear dos nodos\\n  imprimir el valor de los dos nodos\\n  transversal\\nlo mismo pero con 4 nodos 10,20,30,40\\n  imprimir el valor de los dos nodos\\n  transversal\\n  insertar el nodo 25, despues del nodo 20\\n  y antes del nodo 30\\nTODO ESTO ANTES DE IR A LA ESCRITURA FORMAL DE ADT, Lista ligada\\n'"
            ]
          },
          "metadata": {},
          "execution_count": 24
        }
      ]
    },
    {
      "cell_type": "code",
      "metadata": {
        "id": "vjHjCtzm0oIK"
      },
      "source": [
        "class Nodo:\n",
        "    def __init__ (self, valor, siguiente=None):\n",
        "        self.data=valor\n",
        "        self.next= siguiente"
      ],
      "execution_count": 25,
      "outputs": []
    },
    {
      "cell_type": "code",
      "metadata": {
        "colab": {
          "base_uri": "https://localhost:8080/"
        },
        "id": "KvsCOnvg1tkS",
        "outputId": "0afd4b35-7bb4-4f6e-d381-18966938b6a7"
      },
      "source": [
        "#agregando con la funcion next\n",
        "head = Nodo(10)\n",
        "head.next=Nodo(20)\n",
        "print(f\"Primero={head.data}\")\n",
        "print(f\"segundo={head.next.data}\")\n",
        "\n",
        "#lo mismo pero ahorrando codigo dice \n",
        "head=Nodo(10, Nodo(20))\n",
        "print(f\"primero= {head.data}\")\n",
        "print(f\"primero= {head.next.data}\")\n",
        "\n",
        "#transversal\n",
        "curr_node = head\n",
        "while curr_node !=None:\n",
        "    print(f\"{curr_node.data} | -->\", end=\"\")\n",
        "    curr_node = curr_node.next\n"
      ],
      "execution_count": 23,
      "outputs": [
        {
          "output_type": "stream",
          "name": "stdout",
          "text": [
            "Primero=10\n",
            "segundo=20\n",
            "primero= 10\n",
            "primero= 20\n",
            "10 | -->20 | -->"
          ]
        }
      ]
    },
    {
      "cell_type": "code",
      "metadata": {
        "colab": {
          "base_uri": "https://localhost:8080/"
        },
        "id": "zfic-BNh7HSN",
        "outputId": "df9cb055-1736-4ee9-c414-5e9e6e97cfe4"
      },
      "source": [
        "head=Nodo(10,Nodo(20,Nodo(30,Nodo(40))))\n",
        "#transversal\n",
        "curr_node = head\n",
        "while curr_node !=None:\n",
        "    print(f\"{curr_node.data} | -->\", end=\"\")\n",
        "    curr_node = curr_node.next\n",
        "print(\"\")\n",
        "\n",
        "#imrpimir el primero\n",
        "print(head.data)\n",
        "#imrprimir el ultimo\n",
        "curr_node = head\n",
        "while curr_node.next !=None:\n",
        "    curr_node = curr_node.next\n",
        "print(curr_node.data)\n",
        "\n",
        "#último punto de insertar el nodo 25 despues del 20 y antes del 30\n",
        "curr_node=head\n",
        "while curr_node.data !=20:\n",
        "    curr_node = curr_node.next\n",
        "print(curr_node.data)\n",
        "\n",
        "#      Crear Nodo 25\n",
        "curr_node.next = Nodo(25, curr_node.next )\n",
        "print(\"Después de insertar a 25 \")\n",
        "#   Trasnversal\n",
        "curr_node = head\n",
        "while curr_node !=  None:\n",
        "    print(f\"| {curr_node.data } | ---> \" , end=\"\")\n",
        "    curr_node = curr_node.next\n",
        "print(\"\")"
      ],
      "execution_count": 26,
      "outputs": [
        {
          "output_type": "stream",
          "name": "stdout",
          "text": [
            "10 | -->20 | -->30 | -->40 | -->\n",
            "10\n",
            "40\n",
            "20\n",
            "Después de insertar a 25 \n",
            "| 10 | ---> | 20 | ---> | 25 | ---> | 30 | ---> | 40 | ---> \n"
          ]
        }
      ]
    },
    {
      "cell_type": "code",
      "metadata": {
        "id": "O2aQ2Zz3dJrq"
      },
      "source": [
        "class LinkedList:\n",
        "    def __init__(self):\n",
        "        self.head = None\n",
        "    \n",
        "    def is_empty(self):\n",
        "        return self.head==None\n",
        "\n",
        "    def get_tail(self):\n",
        "        if self.is_empty():\n",
        "            return None\n",
        "        else:\n",
        "            curr_node = self.head\n",
        "            while curr_node.next!=None:\n",
        "                curr_node=curr_node.next\n",
        "            return curr_node\n",
        "    def append(self, value):\n",
        "        if self.head==None:\n",
        "            self.head=Nodo(value)\n",
        "        else:\n",
        "            curr_node=self.head\n",
        "            while curr_node.next!=None:\n",
        "                curr_node=curr_node.next\n",
        "            curr_node.next=Nodo(value)\n",
        "    \n",
        "    def transversal(self):\n",
        "        curr_node=self.head\n",
        "        while curr_node != None:\n",
        "            print(f\"|{curr_node.data}| -->\", end=\"\")\n",
        "            curr_node = curr_node.next\n",
        "        print(\"\")\n",
        "\n",
        "    def remove (self,value):\n",
        "        if self.head==None:\n",
        "            print(\"Lista vacia, no se puede remover nada\")\n",
        "        else:\n",
        "          curr_node=self.head\n",
        "          aux = None\n",
        "          while curr_node.data !=value: #revisar cuando el valor no exista\n",
        "              aux=curr_node\n",
        "              curr_node=curr_node.next\n",
        "\n",
        "          if curr_node!=None:\n",
        "              aux.next=curr_node.next\n",
        "              curr_node=None\n",
        "    \n",
        "    def preppend(self,value):\n",
        "        if self.head==None:\n",
        "            print(\"esta vacio, no se puede hacer preppend\")\n",
        "        else:\n",
        "            aux=self.head\n",
        "            self.head=Nodo(value,aux)"
      ],
      "execution_count": 27,
      "outputs": []
    },
    {
      "cell_type": "code",
      "metadata": {
        "colab": {
          "base_uri": "https://localhost:8080/"
        },
        "id": "O8FbNZPegJsV",
        "outputId": "9622c7f2-781a-4a6d-eae9-9d487b181e62"
      },
      "source": [
        "lista=LinkedList()\n",
        "if lista.is_empty():\n",
        "    print(\"la lista esta vacia\")\n",
        "else:\n",
        "    print(\"la lista no esta vacia\")\n",
        "\n",
        "lista.append(10)\n",
        "lista.append(20)\n",
        "lista.append(30)\n",
        "lista.append(40)\n",
        "lista.append(50)\n",
        "\n",
        "nodo=lista.get_tail()\n",
        "if nodo!=None:\n",
        "    print(nodo.data)\n",
        "else:\n",
        "    print(\"lista vacia\")\n",
        "\n",
        "lista.transversal()\n",
        "lista.remove(30)\n",
        "lista.transversal()\n",
        "lista.preppend(5)\n",
        "print(\"despues del preppend\")\n",
        "lista.transversal()"
      ],
      "execution_count": 28,
      "outputs": [
        {
          "output_type": "stream",
          "name": "stdout",
          "text": [
            "la lista esta vacia\n",
            "50\n",
            "|10| -->|20| -->|30| -->|40| -->|50| -->\n",
            "|10| -->|20| -->|40| -->|50| -->\n",
            "despues del preppend\n",
            "|5| -->|10| -->|20| -->|40| -->|50| -->\n"
          ]
        }
      ]
    }
  ]
}